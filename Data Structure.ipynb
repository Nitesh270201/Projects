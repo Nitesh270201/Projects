{
 "cells": [
  {
   "cell_type": "markdown",
   "id": "5483218d-89a3-4414-93b0-ad318b747e71",
   "metadata": {},
   "source": [
    "\n",
    "### String\n"
   ]
  },
  {
   "cell_type": "code",
   "execution_count": 2,
   "id": "d94a65e5-ed07-4746-8d74-3a7d54eb1b8b",
   "metadata": {},
   "outputs": [
    {
     "name": "stdout",
     "output_type": "stream",
     "text": [
      "11\n"
     ]
    }
   ],
   "source": [
    "str1= \"hello World\"\n",
    "print(len(str1))"
   ]
  },
  {
   "cell_type": "markdown",
   "id": "3d67df02-fb87-4dcf-b10b-6f57b9f79253",
   "metadata": {},
   "source": [
    "#### Indexing\n"
   ]
  },
  {
   "cell_type": "code",
   "execution_count": 4,
   "id": "f4b0fdb4-4124-41a6-b00c-c05d62e053ac",
   "metadata": {},
   "outputs": [
    {
     "data": {
      "text/plain": [
       "'\\nEg.\\n      01234567891011\\nstr1=\"hello world\"\\n'"
      ]
     },
     "execution_count": 4,
     "metadata": {},
     "output_type": "execute_result"
    }
   ],
   "source": [
    "#index starts from Zero\n",
    "\"\"\"\n",
    "Eg.\n",
    "      01234567891011\n",
    "str1=\"hello world\"\n",
    "\"\"\""
   ]
  },
  {
   "cell_type": "code",
   "execution_count": 21,
   "id": "a8f755c3-94eb-42d8-907b-d25c559444a7",
   "metadata": {},
   "outputs": [
    {
     "name": "stdout",
     "output_type": "stream",
     "text": [
      "12\n",
      "bike \n",
      "bk sgo\n",
      "d\n",
      "doog si ekib\n"
     ]
    }
   ],
   "source": [
    "Str2=\"bike is good\"\n",
    "print(len(Str2))\n",
    "#Get Desire output using Indexing\n",
    "print(Str2[0:5])\n",
    "#skipping the each 2 nd value\n",
    "print(Str2[0:12:2])\n",
    "#negative Indexing\n",
    "print(Str2[-1])\n",
    "# Revercing the String\n",
    "print(Str2[::-1])"
   ]
  },
  {
   "cell_type": "code",
   "execution_count": 4,
   "id": "f871c0cc-0667-4378-9410-cdac4be1f03c",
   "metadata": {},
   "outputs": [
    {
     "data": {
      "text/plain": [
       "'Scientis'"
      ]
     },
     "execution_count": 4,
     "metadata": {},
     "output_type": "execute_result"
    }
   ],
   "source": [
    "str3=\"Cirtified Data Scientist\"\n",
    "str3[-9:-1]\n",
    "\n",
    "\n"
   ]
  },
  {
   "cell_type": "code",
   "execution_count": 8,
   "id": "4597fad5-72ae-4ac7-b9a8-b4d1e6b51601",
   "metadata": {},
   "outputs": [
    {
     "data": {
      "text/plain": [
       "'fitriC'"
      ]
     },
     "execution_count": 8,
     "metadata": {},
     "output_type": "execute_result"
    }
   ],
   "source": [
    "str3[5::-1]"
   ]
  },
  {
   "cell_type": "code",
   "execution_count": 9,
   "id": "8114b66e-0032-4421-9147-877513e02a97",
   "metadata": {},
   "outputs": [],
   "source": [
    "str4=\"hello World\"\n"
   ]
  },
  {
   "cell_type": "code",
   "execution_count": 10,
   "id": "6fbf0d9e-9f0c-42e4-b5a7-b5d0e7a2ad76",
   "metadata": {},
   "outputs": [
    {
     "data": {
      "text/plain": [
       "'lo'"
      ]
     },
     "execution_count": 10,
     "metadata": {},
     "output_type": "execute_result"
    }
   ],
   "source": [
    "# Step Count\n",
    "str4[2:6:2]"
   ]
  },
  {
   "cell_type": "code",
   "execution_count": 11,
   "id": "7361c354-54c9-4d11-9c89-8e091518a252",
   "metadata": {},
   "outputs": [
    {
     "data": {
      "text/plain": [
       "'lroW o'"
      ]
     },
     "execution_count": 11,
     "metadata": {},
     "output_type": "execute_result"
    }
   ],
   "source": [
    "str4[9:3:-1]"
   ]
  },
  {
   "cell_type": "code",
   "execution_count": 12,
   "id": "e859908e-f853-4a8e-b194-76e0b37afefb",
   "metadata": {},
   "outputs": [
    {
     "data": {
      "text/plain": [
       "''"
      ]
     },
     "execution_count": 12,
     "metadata": {},
     "output_type": "execute_result"
    }
   ],
   "source": [
    "str4[-3:-8:1]"
   ]
  },
  {
   "cell_type": "code",
   "execution_count": 13,
   "id": "e2d4074d-c7bc-460f-8aea-fd3222788a6d",
   "metadata": {},
   "outputs": [
    {
     "data": {
      "text/plain": [
       "'roW o'"
      ]
     },
     "execution_count": 13,
     "metadata": {},
     "output_type": "execute_result"
    }
   ],
   "source": [
    "str4[-3:-8:-1]"
   ]
  },
  {
   "cell_type": "markdown",
   "id": "567ef3ab-57c7-4141-992b-409217125483",
   "metadata": {},
   "source": [
    "### String Function\n"
   ]
  },
  {
   "cell_type": "code",
   "execution_count": 1,
   "id": "6979a9c0-760d-4bab-bc6f-55eb611da701",
   "metadata": {},
   "outputs": [
    {
     "data": {
      "text/plain": [
       "'apropriate results'"
      ]
     },
     "execution_count": 1,
     "metadata": {},
     "output_type": "execute_result"
    }
   ],
   "source": [
    "str6=\"apropriate results\"\n",
    "str6\n"
   ]
  },
  {
   "cell_type": "code",
   "execution_count": 2,
   "id": "e4bd5953-2e46-4406-a556-a33991890f4d",
   "metadata": {},
   "outputs": [
    {
     "data": {
      "text/plain": [
       "'Apropriate results'"
      ]
     },
     "execution_count": 2,
     "metadata": {},
     "output_type": "execute_result"
    }
   ],
   "source": [
    "str6.capitalize()"
   ]
  },
  {
   "cell_type": "code",
   "execution_count": 3,
   "id": "6a01aa02-e6d1-4ce8-b7c8-7ad3eb8ffcb0",
   "metadata": {},
   "outputs": [
    {
     "data": {
      "text/plain": [
       "'Apropriate Results'"
      ]
     },
     "execution_count": 3,
     "metadata": {},
     "output_type": "execute_result"
    }
   ],
   "source": [
    "str6.title()"
   ]
  },
  {
   "cell_type": "code",
   "execution_count": 10,
   "id": "84100815-372d-48c6-8524-84ff7cdeab23",
   "metadata": {},
   "outputs": [
    {
     "data": {
      "text/plain": [
       "['ap', 'op', 'iate ', 'esults']"
      ]
     },
     "execution_count": 10,
     "metadata": {},
     "output_type": "execute_result"
    }
   ],
   "source": [
    "str6.split(\"r\")"
   ]
  },
  {
   "cell_type": "code",
   "execution_count": 11,
   "id": "45b5704c-da1c-400a-b933-9b0db8952934",
   "metadata": {},
   "outputs": [
    {
     "data": {
      "text/plain": [
       "('Data science ', 'and', ' Machine Lurning is the future')"
      ]
     },
     "execution_count": 11,
     "metadata": {},
     "output_type": "execute_result"
    }
   ],
   "source": [
    "str7=\"Data science and Machine Lurning is the future\"\n",
    "str7.partition(\"and\")"
   ]
  },
  {
   "cell_type": "code",
   "execution_count": 16,
   "id": "8b272bfc-d93b-4d0c-81df-9aa358d49ce3",
   "metadata": {},
   "outputs": [
    {
     "data": {
      "text/plain": [
       "'nData science and Machine Lurning is the futureiData science and Machine Lurning is the futuretData science and Machine Lurning is the futureeData science and Machine Lurning is the futuresData science and Machine Lurning is the futureh'"
      ]
     },
     "execution_count": 16,
     "metadata": {},
     "output_type": "execute_result"
    }
   ],
   "source": [
    "str7.join(\"nitesh\")"
   ]
  },
  {
   "cell_type": "code",
   "execution_count": 17,
   "id": "be7928da-df59-47cf-9f0d-3388f0034ee8",
   "metadata": {},
   "outputs": [],
   "source": [
    "### Place holder"
   ]
  },
  {
   "cell_type": "code",
   "execution_count": 20,
   "id": "5b34d80c-e72f-4544-859a-197db1ef11d3",
   "metadata": {},
   "outputs": [
    {
     "name": "stdout",
     "output_type": "stream",
     "text": [
      "sum od the10 and 25 is 35\n"
     ]
    }
   ],
   "source": [
    "a=10\n",
    "b=25\n",
    "c=a+b\n",
    "print(\"sum od the{} and {} is {}\".format(a,b,c))"
   ]
  },
  {
   "cell_type": "markdown",
   "id": "37141713-0b67-4799-b159-2d016471d24d",
   "metadata": {},
   "source": [
    "\n",
    "\n",
    "# list\n"
   ]
  },
  {
   "cell_type": "markdown",
   "id": "4d3c1860-0f50-4c56-9970-a5acafc5c68f",
   "metadata": {},
   "source": [
    "- HOMOGENOUS- IT CONTAIN ONLY SINGLE DATATYPES\n",
    "- HETROGENOUS- IT CONTAIN MIXED DATATYPES\n"
   ]
  },
  {
   "cell_type": "code",
   "execution_count": 2,
   "id": "802a6d43-2078-4d1c-b0b1-281f218241c7",
   "metadata": {},
   "outputs": [
    {
     "data": {
      "text/plain": [
       "list"
      ]
     },
     "execution_count": 2,
     "metadata": {},
     "output_type": "execute_result"
    }
   ],
   "source": [
    "# 1. homogenous \n",
    "\n",
    "toppers=[\"abc\",\"xyz\",\"strq\"]\n",
    "type(toppers)\n"
   ]
  },
  {
   "cell_type": "code",
   "execution_count": 3,
   "id": "366f4062-9006-4ebf-98ca-4be7ecb8ab39",
   "metadata": {},
   "outputs": [],
   "source": [
    "# 2. Hetrogenous\n",
    "a=[2,3,\"ball\",\"kite\"]"
   ]
  },
  {
   "cell_type": "code",
   "execution_count": 4,
   "id": "f8f1a4ac-34dd-459c-9437-2b83d2b04c7b",
   "metadata": {},
   "outputs": [
    {
     "data": {
      "text/plain": [
       "'xyz'"
      ]
     },
     "execution_count": 4,
     "metadata": {},
     "output_type": "execute_result"
    }
   ],
   "source": [
    "# ordered\n",
    "toppers=[\"abc\",\"xyz\",\"str\",'jkl']\n",
    "toppers[1]\n"
   ]
  },
  {
   "cell_type": "code",
   "execution_count": 6,
   "id": "ec42cee1-19a5-4fcc-af28-6e4d7b5d8a34",
   "metadata": {},
   "outputs": [
    {
     "name": "stdout",
     "output_type": "stream",
     "text": [
      "str\n",
      "jkl\n",
      "['xyz', 'str']\n"
     ]
    }
   ],
   "source": [
    "#indexing\n",
    "\n",
    "toppers=[\"abc\",\"xyz\",\"str\",'jkl']\n",
    "\n",
    "print(toppers[2])\n",
    "print(toppers[3])\n",
    "print(toppers[1:3])\n"
   ]
  },
  {
   "cell_type": "code",
   "execution_count": 8,
   "id": "87759c28-2f2c-4ee8-a650-1a01d12ad330",
   "metadata": {},
   "outputs": [
    {
     "data": {
      "text/plain": [
       "[10, 15, 20]"
      ]
     },
     "execution_count": 8,
     "metadata": {},
     "output_type": "execute_result"
    }
   ],
   "source": [
    "l1=[5,10,15,20,25,30,35]\n",
    "l1[1:4]"
   ]
  },
  {
   "cell_type": "code",
   "execution_count": 9,
   "id": "1b1528fe-1b23-4777-a2ee-0e80f667b3ff",
   "metadata": {},
   "outputs": [
    {
     "data": {
      "text/plain": [
       "[10, 20, 30]"
      ]
     },
     "execution_count": 9,
     "metadata": {},
     "output_type": "execute_result"
    }
   ],
   "source": [
    "l1[1:6:2]"
   ]
  },
  {
   "cell_type": "code",
   "execution_count": 10,
   "id": "227c8fff-c8e5-4efd-9e36-2274e3b0654d",
   "metadata": {},
   "outputs": [
    {
     "data": {
      "text/plain": [
       "[35, 30, 25]"
      ]
     },
     "execution_count": 10,
     "metadata": {},
     "output_type": "execute_result"
    }
   ],
   "source": [
    "l1[-1:-4:-1]"
   ]
  },
  {
   "cell_type": "code",
   "execution_count": 11,
   "id": "cdd3320a-72af-4bb9-be33-f884a9747791",
   "metadata": {},
   "outputs": [
    {
     "data": {
      "text/plain": [
       "[35, 30, 25, 20, 15, 10, 5]"
      ]
     },
     "execution_count": 11,
     "metadata": {},
     "output_type": "execute_result"
    }
   ],
   "source": [
    "l1[::-1]"
   ]
  },
  {
   "cell_type": "code",
   "execution_count": null,
   "id": "c15b4681-b4fa-4b3a-85b6-586e6ff1bd31",
   "metadata": {},
   "outputs": [],
   "source": [
    "\n"
   ]
  },
  {
   "cell_type": "markdown",
   "id": "80b4a82a-4323-47c9-ae90-17af3cac2985",
   "metadata": {},
   "source": [
    "## Nested list"
   ]
  },
  {
   "cell_type": "code",
   "execution_count": 18,
   "id": "9bcef768-301c-4cad-8045-f4dbb1f69fe1",
   "metadata": {},
   "outputs": [],
   "source": [
    "l2=[1,2,3,4,5,[6,7,8],[1,2,2,6,5,6]]"
   ]
  },
  {
   "cell_type": "code",
   "execution_count": 19,
   "id": "dcc168e0-4c4f-4c81-a0b8-fa5c5ce378bc",
   "metadata": {},
   "outputs": [
    {
     "data": {
      "text/plain": [
       "7"
      ]
     },
     "execution_count": 19,
     "metadata": {},
     "output_type": "execute_result"
    }
   ],
   "source": [
    "len(l2)"
   ]
  },
  {
   "cell_type": "code",
   "execution_count": 20,
   "id": "1fd379f0-43d3-4d83-87a4-dba9b7a19f96",
   "metadata": {},
   "outputs": [
    {
     "data": {
      "text/plain": [
       "[6, 7, 8]"
      ]
     },
     "execution_count": 20,
     "metadata": {},
     "output_type": "execute_result"
    }
   ],
   "source": [
    "l2[5][0:3]"
   ]
  },
  {
   "cell_type": "code",
   "execution_count": 26,
   "id": "23ce4130-5195-4e06-b25f-e0c2784cbf52",
   "metadata": {},
   "outputs": [
    {
     "data": {
      "text/plain": [
       "[1, 2, 5]"
      ]
     },
     "execution_count": 26,
     "metadata": {},
     "output_type": "execute_result"
    }
   ],
   "source": [
    "l2[6][0:5:2]"
   ]
  },
  {
   "cell_type": "code",
   "execution_count": 28,
   "id": "d58d63c4-3946-45d9-b8be-66d571fa240d",
   "metadata": {},
   "outputs": [
    {
     "data": {
      "text/plain": [
       "[6, 5, 6, 2, 2, 1]"
      ]
     },
     "execution_count": 28,
     "metadata": {},
     "output_type": "execute_result"
    }
   ],
   "source": [
    "l2[6][::-1]"
   ]
  },
  {
   "cell_type": "code",
   "execution_count": 33,
   "id": "ccc31bc4-3428-4fb2-9790-0aaca4b8a54d",
   "metadata": {},
   "outputs": [
    {
     "data": {
      "text/plain": [
       "[6, 6, 2]"
      ]
     },
     "execution_count": 33,
     "metadata": {},
     "output_type": "execute_result"
    }
   ],
   "source": [
    "l2[6][-1:-6:-2]"
   ]
  },
  {
   "cell_type": "code",
   "execution_count": 35,
   "id": "fb40c845-ab33-45b9-8f17-af97c9b3392f",
   "metadata": {},
   "outputs": [
    {
     "name": "stdout",
     "output_type": "stream",
     "text": [
      "8\n",
      "[3, 2, 1]\n"
     ]
    }
   ],
   "source": [
    "l5=[19,21,24,[52,11,43,[1,2,3,4],8],[9,8,7,6,[3,2,1],15],10,100,11]\n",
    "print(len(l5))\n",
    "print(l5[4][4])"
   ]
  },
  {
   "cell_type": "code",
   "execution_count": 36,
   "id": "6f266359-3edd-4d5f-9af1-6e0aa90de16c",
   "metadata": {},
   "outputs": [
    {
     "data": {
      "text/plain": [
       "[8, 7, 6, [3, 2, 1]]"
      ]
     },
     "execution_count": 36,
     "metadata": {},
     "output_type": "execute_result"
    }
   ],
   "source": [
    "l5[4][1:5]"
   ]
  },
  {
   "cell_type": "code",
   "execution_count": 37,
   "id": "134d7486-44d9-4883-a978-e52691016174",
   "metadata": {},
   "outputs": [
    {
     "data": {
      "text/plain": [
       "[11, [1, 2, 3, 4]]"
      ]
     },
     "execution_count": 37,
     "metadata": {},
     "output_type": "execute_result"
    }
   ],
   "source": [
    "l5[3][1::2]"
   ]
  },
  {
   "cell_type": "markdown",
   "id": "0429901c-93b0-462a-913d-e3a737a92f86",
   "metadata": {},
   "source": [
    "## list funcitons\n",
    "- addition\n",
    "-   - append\n",
    "    - extend\n",
    "    - insert\n",
    "- remove\n",
    "-   - pop\n",
    "    - remove\n",
    "    - clear"
   ]
  },
  {
   "cell_type": "code",
   "execution_count": 38,
   "id": "e9444657-e4bd-4e5a-b952-bfa83b7c9e61",
   "metadata": {},
   "outputs": [
    {
     "data": {
      "text/plain": [
       "['dell', 'laptop', 55000, 8]"
      ]
     },
     "execution_count": 38,
     "metadata": {},
     "output_type": "execute_result"
    }
   ],
   "source": [
    "list1=['dell','laptop',55000,8]\n",
    "list1\n"
   ]
  },
  {
   "cell_type": "code",
   "execution_count": 47,
   "id": "2bfbcb43-1bf3-462c-a1d9-faf1b002217e",
   "metadata": {},
   "outputs": [],
   "source": [
    "list1.clear()"
   ]
  },
  {
   "cell_type": "code",
   "execution_count": 49,
   "id": "ca3d77fb-27ce-464b-a7a5-392e9e8264e2",
   "metadata": {},
   "outputs": [],
   "source": [
    "list1=['dell','laptop',55000,8]\n"
   ]
  },
  {
   "cell_type": "code",
   "execution_count": 50,
   "id": "979eb99b-4974-40ff-823d-c11030cc2172",
   "metadata": {},
   "outputs": [
    {
     "data": {
      "text/plain": [
       "['dell', 'laptop', 55000, 8]"
      ]
     },
     "execution_count": 50,
     "metadata": {},
     "output_type": "execute_result"
    }
   ],
   "source": [
    "list1"
   ]
  },
  {
   "cell_type": "code",
   "execution_count": 54,
   "id": "bec092b4-4b07-4322-9304-91fc9ca92d1c",
   "metadata": {},
   "outputs": [],
   "source": [
    "list1.append(\"data\")"
   ]
  },
  {
   "cell_type": "code",
   "execution_count": 55,
   "id": "feac046f-1d43-4381-b572-fe40174a7de4",
   "metadata": {},
   "outputs": [
    {
     "data": {
      "text/plain": [
       "['dell', 'laptop', 55000, 8, 'data']"
      ]
     },
     "execution_count": 55,
     "metadata": {},
     "output_type": "execute_result"
    }
   ],
   "source": [
    "list1"
   ]
  },
  {
   "cell_type": "code",
   "execution_count": 57,
   "id": "65e125a3-b25e-4a82-8773-e10b4cd76520",
   "metadata": {},
   "outputs": [
    {
     "data": {
      "text/plain": [
       "['dell', 'laptop', 55000, 8, 'data', 1, 2, 3, 4]"
      ]
     },
     "execution_count": 57,
     "metadata": {},
     "output_type": "execute_result"
    }
   ],
   "source": [
    "list1.extend([1,2,3,4])\n",
    "list1"
   ]
  },
  {
   "cell_type": "code",
   "execution_count": 59,
   "id": "124731af-10fb-4b35-9586-8fc3db13a4c4",
   "metadata": {},
   "outputs": [
    {
     "data": {
      "text/plain": [
       "['dell', 'laptop', '16gb', '16gb', 55000, 8, 'data', 1, 2, 3, 4]"
      ]
     },
     "execution_count": 59,
     "metadata": {},
     "output_type": "execute_result"
    }
   ],
   "source": [
    "list1.insert(2,\"16gb\")\n",
    "list1"
   ]
  },
  {
   "cell_type": "markdown",
   "id": "4e877e9d-79ac-473b-b23c-f64609c885fb",
   "metadata": {},
   "source": [
    "#### remove\n"
   ]
  },
  {
   "cell_type": "code",
   "execution_count": 64,
   "id": "5a9d0682-23f7-46ab-8932-35a65461d2a5",
   "metadata": {},
   "outputs": [
    {
     "data": {
      "text/plain": [
       "['dell', 'laptop', 55000, 8, 'data', 1, 2, 3]"
      ]
     },
     "execution_count": 64,
     "metadata": {},
     "output_type": "execute_result"
    }
   ],
   "source": [
    "list1.pop(2)\n",
    "list1"
   ]
  },
  {
   "cell_type": "code",
   "execution_count": 69,
   "id": "1617acad-0eb6-409c-bf46-fd9c222874a1",
   "metadata": {},
   "outputs": [
    {
     "data": {
      "text/plain": [
       "['dell', 'laptop', 'data', 1, 2, 3]"
      ]
     },
     "execution_count": 69,
     "metadata": {},
     "output_type": "execute_result"
    }
   ],
   "source": [
    "list1.remove(8)\n",
    "list1"
   ]
  },
  {
   "cell_type": "code",
   "execution_count": 70,
   "id": "190eda2e-8fe8-45b0-b188-3dd0914f0702",
   "metadata": {},
   "outputs": [
    {
     "data": {
      "text/plain": [
       "[]"
      ]
     },
     "execution_count": 70,
     "metadata": {},
     "output_type": "execute_result"
    }
   ],
   "source": [
    "list1.clear()\n",
    "list1"
   ]
  },
  {
   "cell_type": "code",
   "execution_count": 75,
   "id": "1a84fd0d-9d63-4091-acc1-c83be7dc5bf7",
   "metadata": {},
   "outputs": [
    {
     "data": {
      "text/plain": [
       "[2, 6, 2, 5, 2, 5, 5, 5, 6, 6, 4, 6, 4, 6, 4, 6, 4]"
      ]
     },
     "execution_count": 75,
     "metadata": {},
     "output_type": "execute_result"
    }
   ],
   "source": [
    "list1=[2,6,2,5,2,5,5,5,6,6,4,6,4,6,4,6,4]\n",
    "list1\n",
    "\n"
   ]
  },
  {
   "cell_type": "code",
   "execution_count": 76,
   "id": "78b06f95-fedb-4f98-8fc3-02c5c5a8dfdb",
   "metadata": {},
   "outputs": [
    {
     "data": {
      "text/plain": [
       "0"
      ]
     },
     "execution_count": 76,
     "metadata": {},
     "output_type": "execute_result"
    }
   ],
   "source": [
    "list1.index(2)"
   ]
  },
  {
   "cell_type": "code",
   "execution_count": 77,
   "id": "c1984fe7-39d7-4978-850d-99ae06269a53",
   "metadata": {},
   "outputs": [
    {
     "data": {
      "text/plain": [
       "1"
      ]
     },
     "execution_count": 77,
     "metadata": {},
     "output_type": "execute_result"
    }
   ],
   "source": [
    "list1.index(6)"
   ]
  },
  {
   "cell_type": "code",
   "execution_count": 78,
   "id": "f7884e29-a176-4144-8493-5693ede5aa22",
   "metadata": {},
   "outputs": [
    {
     "data": {
      "text/plain": [
       "[2, 2, 2, 4, 4, 4, 4, 5, 5, 5, 5, 6, 6, 6, 6, 6, 6]"
      ]
     },
     "execution_count": 78,
     "metadata": {},
     "output_type": "execute_result"
    }
   ],
   "source": [
    "# Ascending order\n",
    "list1.sort()\n",
    "list1\n"
   ]
  },
  {
   "cell_type": "code",
   "execution_count": 80,
   "id": "f79606dd-9cff-4bc3-9cef-c8b020cb04da",
   "metadata": {},
   "outputs": [
    {
     "data": {
      "text/plain": [
       "[6, 6, 6, 6, 6, 6, 5, 5, 5, 5, 4, 4, 4, 4, 2, 2, 2]"
      ]
     },
     "execution_count": 80,
     "metadata": {},
     "output_type": "execute_result"
    }
   ],
   "source": [
    "# descending order \n",
    "\n",
    "list1.sort(reverse=True)\n",
    "list1"
   ]
  },
  {
   "cell_type": "code",
   "execution_count": null,
   "id": "f59a9e2a-e68e-4fd2-b1e5-3ce94d39de98",
   "metadata": {},
   "outputs": [],
   "source": [
    "\n",
    "\n"
   ]
  },
  {
   "cell_type": "markdown",
   "id": "d41851ff-06f9-4380-825c-575e6bf66a5a",
   "metadata": {},
   "source": [
    "\n",
    "## Touple\n"
   ]
  },
  {
   "cell_type": "code",
   "execution_count": 2,
   "id": "e0065257-5afe-418a-96a1-668f2801d68b",
   "metadata": {},
   "outputs": [
    {
     "data": {
      "text/plain": [
       "tuple"
      ]
     },
     "execution_count": 2,
     "metadata": {},
     "output_type": "execute_result"
    }
   ],
   "source": [
    "t1=()\n",
    "type(t1)"
   ]
  },
  {
   "cell_type": "code",
   "execution_count": 3,
   "id": "d9522693-994a-40c1-9e33-a4843693ddbe",
   "metadata": {},
   "outputs": [
    {
     "data": {
      "text/plain": [
       "('van', 'truck', 2, 5.66, True)"
      ]
     },
     "execution_count": 3,
     "metadata": {},
     "output_type": "execute_result"
    }
   ],
   "source": [
    "# Hetrogenous touple\n",
    "t2=('van','truck',2,5.66,True)\n",
    "t2"
   ]
  },
  {
   "cell_type": "code",
   "execution_count": 5,
   "id": "a1588fd1-a045-4c33-9040-ebaa2b223ff0",
   "metadata": {},
   "outputs": [
    {
     "data": {
      "text/plain": [
       "(1, 2, 3, 44, 55, 6, 66, 77, 5)"
      ]
     },
     "execution_count": 5,
     "metadata": {},
     "output_type": "execute_result"
    }
   ],
   "source": [
    "# Homogenous\n",
    "t3=(1,2,3,44,55,6,66,77,5)\n",
    "t3"
   ]
  },
  {
   "cell_type": "code",
   "execution_count": 8,
   "id": "05f51820-4977-469e-bdd4-8dfe00eea870",
   "metadata": {},
   "outputs": [
    {
     "data": {
      "text/plain": [
       "(1, 2, 3, 4, 5, 6, (7, 8, 9, (2, 3, 4, 5), 5, 6), 66, 55)"
      ]
     },
     "execution_count": 8,
     "metadata": {},
     "output_type": "execute_result"
    }
   ],
   "source": [
    "# Nested Touple\n",
    "t1=(1,2,3,4,5,6,(7,8,9,(2,3,4,5),5,6),66,55)\n",
    "t1"
   ]
  },
  {
   "cell_type": "code",
   "execution_count": 9,
   "id": "d2844236-c17d-424c-943f-cd89bd78b5d4",
   "metadata": {},
   "outputs": [
    {
     "data": {
      "text/plain": [
       "(1, 2, 3, 4, 5, 6, (7, 8, 9, (2, 3, 4, 5), 5, 6), 66, 55)"
      ]
     },
     "execution_count": 9,
     "metadata": {},
     "output_type": "execute_result"
    }
   ],
   "source": [
    "# ordering and indexing\n",
    "t1"
   ]
  },
  {
   "cell_type": "code",
   "execution_count": 10,
   "id": "3dd6c858-b70b-4127-a454-e15a200914ce",
   "metadata": {},
   "outputs": [
    {
     "data": {
      "text/plain": [
       "3"
      ]
     },
     "execution_count": 10,
     "metadata": {},
     "output_type": "execute_result"
    }
   ],
   "source": [
    "t1[2]"
   ]
  },
  {
   "cell_type": "code",
   "execution_count": 11,
   "id": "4f9c5301-d1c8-47de-a588-ea7c561003fa",
   "metadata": {},
   "outputs": [
    {
     "data": {
      "text/plain": [
       "(2, 3, 4, 5, 6, (7, 8, 9, (2, 3, 4, 5), 5, 6))"
      ]
     },
     "execution_count": 11,
     "metadata": {},
     "output_type": "execute_result"
    }
   ],
   "source": [
    "t1[1:7]"
   ]
  },
  {
   "cell_type": "code",
   "execution_count": 12,
   "id": "731c630a-f6e7-40bd-8739-0794517cb87e",
   "metadata": {},
   "outputs": [],
   "source": [
    "# there are 4 ways to the calling the number 9"
   ]
  },
  {
   "cell_type": "code",
   "execution_count": 13,
   "id": "76089837-dadf-4e85-a609-2f9bcef767ff",
   "metadata": {},
   "outputs": [
    {
     "data": {
      "text/plain": [
       "(1, 2, 3, 4, 5, 6, (7, 8, 9, (2, 3, 4, 5), 5, 6), 66, 55)"
      ]
     },
     "execution_count": 13,
     "metadata": {},
     "output_type": "execute_result"
    }
   ],
   "source": [
    "\n",
    "t1"
   ]
  },
  {
   "cell_type": "code",
   "execution_count": 14,
   "id": "ad42c159-4fd7-43bf-a5fa-81e6529eb2e4",
   "metadata": {},
   "outputs": [
    {
     "data": {
      "text/plain": [
       "9"
      ]
     },
     "execution_count": 14,
     "metadata": {},
     "output_type": "execute_result"
    }
   ],
   "source": [
    "#1\n",
    "t1[6][2]"
   ]
  },
  {
   "cell_type": "code",
   "execution_count": 15,
   "id": "83d4c55b-a605-4be7-b274-00f25ffb07e8",
   "metadata": {},
   "outputs": [
    {
     "data": {
      "text/plain": [
       "9"
      ]
     },
     "execution_count": 15,
     "metadata": {},
     "output_type": "execute_result"
    }
   ],
   "source": [
    "#2\n",
    "t1[6][-4]"
   ]
  },
  {
   "cell_type": "code",
   "execution_count": 16,
   "id": "48368db4-bf2a-4899-af14-baa31bfeb325",
   "metadata": {},
   "outputs": [
    {
     "data": {
      "text/plain": [
       "9"
      ]
     },
     "execution_count": 16,
     "metadata": {},
     "output_type": "execute_result"
    }
   ],
   "source": [
    "#3\n",
    "t1[-3][-4]"
   ]
  },
  {
   "cell_type": "code",
   "execution_count": 17,
   "id": "b6f0bee3-d4cc-49f6-8604-6e669e9ab4b3",
   "metadata": {},
   "outputs": [
    {
     "data": {
      "text/plain": [
       "9"
      ]
     },
     "execution_count": 17,
     "metadata": {},
     "output_type": "execute_result"
    }
   ],
   "source": [
    "#4\n",
    "t1[-3][2]"
   ]
  },
  {
   "cell_type": "markdown",
   "id": "7523b5ff-d64d-4d8e-ac1e-2312d6ba40c0",
   "metadata": {},
   "source": [
    "## touples immutablity"
   ]
  },
  {
   "cell_type": "code",
   "execution_count": 18,
   "id": "3ebcea30-eb8b-477f-acc6-9172981c85f7",
   "metadata": {},
   "outputs": [
    {
     "data": {
      "text/plain": [
       "('van', 'truck', 2, 5.66, True)"
      ]
     },
     "execution_count": 18,
     "metadata": {},
     "output_type": "execute_result"
    }
   ],
   "source": [
    "t2"
   ]
  },
  {
   "cell_type": "code",
   "execution_count": 20,
   "id": "c23dea04-dff5-4a8f-b850-a13c25024fb1",
   "metadata": {},
   "outputs": [
    {
     "data": {
      "text/plain": [
       "1"
      ]
     },
     "execution_count": 20,
     "metadata": {},
     "output_type": "execute_result"
    }
   ],
   "source": [
    "t2.count(\"van\")"
   ]
  },
  {
   "cell_type": "code",
   "execution_count": 21,
   "id": "c64ae8a7-e2b7-46db-aed0-6cc04c4b5a54",
   "metadata": {},
   "outputs": [
    {
     "data": {
      "text/plain": [
       "(1, 2, 3, 4, 5, 6, (7, 8, 9, (2, 3, 4, 5), 5, 6), 66, 55)"
      ]
     },
     "execution_count": 21,
     "metadata": {},
     "output_type": "execute_result"
    }
   ],
   "source": [
    "t1"
   ]
  },
  {
   "cell_type": "code",
   "execution_count": 22,
   "id": "fa29527f-49fe-491d-9685-7f880b7089df",
   "metadata": {},
   "outputs": [
    {
     "data": {
      "text/plain": [
       "2"
      ]
     },
     "execution_count": 22,
     "metadata": {},
     "output_type": "execute_result"
    }
   ],
   "source": [
    "t1.index(3)"
   ]
  },
  {
   "cell_type": "code",
   "execution_count": 28,
   "id": "d21d3224-dc0c-4df1-9ec3-7914e9b2d3a6",
   "metadata": {},
   "outputs": [
    {
     "data": {
      "text/plain": [
       "2"
      ]
     },
     "execution_count": 28,
     "metadata": {},
     "output_type": "execute_result"
    }
   ],
   "source": [
    "t1[6].index(9)"
   ]
  },
  {
   "cell_type": "markdown",
   "id": "2a76e720-0bb6-415f-98fc-ac55403c0910",
   "metadata": {},
   "source": [
    "## sets\n",
    "sets are \n",
    "- unorderd\n",
    "- mutable\n",
    "- heterogenous\n",
    "  "
   ]
  },
  {
   "cell_type": "code",
   "execution_count": 6,
   "id": "36987db0-6509-469c-8348-78de5b5f25fd",
   "metadata": {},
   "outputs": [
    {
     "name": "stdout",
     "output_type": "stream",
     "text": [
      "{1, 2, 3}\n"
     ]
    },
    {
     "data": {
      "text/plain": [
       "set"
      ]
     },
     "execution_count": 6,
     "metadata": {},
     "output_type": "execute_result"
    }
   ],
   "source": [
    "s1={1,2,3}\n",
    "print(s1)\n",
    "type(s1)"
   ]
  },
  {
   "cell_type": "code",
   "execution_count": 5,
   "id": "5f7e6f3e-5354-459e-9838-b55dd3a529c6",
   "metadata": {},
   "outputs": [
    {
     "data": {
      "text/plain": [
       "{1, 2, 3, 4, 5, 6, 7, 8, 9, 'fan'}"
      ]
     },
     "execution_count": 5,
     "metadata": {},
     "output_type": "execute_result"
    }
   ],
   "source": [
    "s3={9,8,7,6,5,4,3,2,1,\"fan\"}\n",
    "s3\n"
   ]
  },
  {
   "cell_type": "code",
   "execution_count": 7,
   "id": "45128e38-d06c-459e-8a65-2c4ff335ce89",
   "metadata": {},
   "outputs": [
    {
     "data": {
      "text/plain": [
       "{1, 2, 3}"
      ]
     },
     "execution_count": 7,
     "metadata": {},
     "output_type": "execute_result"
    }
   ],
   "source": [
    "s1\n"
   ]
  },
  {
   "cell_type": "code",
   "execution_count": 8,
   "id": "a3b9327b-f02c-4753-b113-5dd37d5d973d",
   "metadata": {},
   "outputs": [
    {
     "data": {
      "text/plain": [
       "{1, 2, 3, 9}"
      ]
     },
     "execution_count": 8,
     "metadata": {},
     "output_type": "execute_result"
    }
   ],
   "source": [
    "s1.add(9)\n",
    "s1"
   ]
  },
  {
   "cell_type": "code",
   "execution_count": 12,
   "id": "6b1b5f84-7c71-4edf-a7c3-b6e237a38132",
   "metadata": {},
   "outputs": [
    {
     "data": {
      "text/plain": [
       "{3, 9}"
      ]
     },
     "execution_count": 12,
     "metadata": {},
     "output_type": "execute_result"
    }
   ],
   "source": [
    "#pop function is removes thebfirst values only\n",
    "\n",
    "s1.pop()\n",
    "s1"
   ]
  },
  {
   "cell_type": "code",
   "execution_count": 14,
   "id": "c8348b6f-a741-4fe4-a5ce-e6247ca8250f",
   "metadata": {},
   "outputs": [
    {
     "data": {
      "text/plain": [
       "{2.2, 3, 4.5, 9, 66}"
      ]
     },
     "execution_count": 14,
     "metadata": {},
     "output_type": "execute_result"
    }
   ],
   "source": [
    "s2=(2.2,4.5,66)\n",
    "s1.update(s2)\n",
    "s1"
   ]
  },
  {
   "cell_type": "code",
   "execution_count": 16,
   "id": "09b4d9ba-5a2a-4cc6-9895-43a885500b7d",
   "metadata": {},
   "outputs": [
    {
     "ename": "NameError",
     "evalue": "name 's' is not defined",
     "output_type": "error",
     "traceback": [
      "\u001b[1;31m---------------------------------------------------------------------------\u001b[0m",
      "\u001b[1;31mNameError\u001b[0m                                 Traceback (most recent call last)",
      "Cell \u001b[1;32mIn[16], line 2\u001b[0m\n\u001b[0;32m      1\u001b[0m \u001b[38;5;66;03m# remove function shows error if value doesn't exists in the set\u001b[39;00m\n\u001b[1;32m----> 2\u001b[0m s\u001b[38;5;241m.\u001b[39mremove(\u001b[38;5;241m88\u001b[39m)\n",
      "\u001b[1;31mNameError\u001b[0m: name 's' is not defined"
     ]
    }
   ],
   "source": [
    "# remove function shows error if value doesn't exists in the set\n",
    "s.remove(88)\n"
   ]
  },
  {
   "cell_type": "code",
   "execution_count": 19,
   "id": "d3e873c4-ad06-4cf5-ae2f-369be8dfc297",
   "metadata": {},
   "outputs": [
    {
     "data": {
      "text/plain": [
       "{2.2, 3, 4.5, 9, 66}"
      ]
     },
     "execution_count": 19,
     "metadata": {},
     "output_type": "execute_result"
    }
   ],
   "source": [
    "s1.discard(88)\n",
    "s1\n",
    "\n"
   ]
  },
  {
   "cell_type": "code",
   "execution_count": 20,
   "id": "c770c30c-0eec-4a4a-a445-0243f625a72a",
   "metadata": {},
   "outputs": [
    {
     "data": {
      "text/plain": [
       "{2.2, 3, 4.5, 9}"
      ]
     },
     "execution_count": 20,
     "metadata": {},
     "output_type": "execute_result"
    }
   ],
   "source": [
    "s1.discard(66)\n",
    "s1"
   ]
  },
  {
   "cell_type": "markdown",
   "id": "b531b4c3-3ee6-4d48-bfdd-0f610d5724ab",
   "metadata": {},
   "source": [
    "- union\n",
    "- intersection\n",
    "- differance\n"
   ]
  },
  {
   "cell_type": "code",
   "execution_count": 21,
   "id": "cc533bf0-7248-4bae-8d1a-b8cb2cfd018a",
   "metadata": {},
   "outputs": [],
   "source": [
    "a={1,2,3,4,5,6}\n",
    "b={5,6,7,8,9,10}\n"
   ]
  },
  {
   "cell_type": "code",
   "execution_count": 22,
   "id": "b58e22b5-df76-47f9-800c-4e2bd7c2bae3",
   "metadata": {},
   "outputs": [
    {
     "data": {
      "text/plain": [
       "{1, 2, 3, 4, 5, 6, 7, 8, 9, 10}"
      ]
     },
     "execution_count": 22,
     "metadata": {},
     "output_type": "execute_result"
    }
   ],
   "source": [
    "#union\n",
    "a.union(b)\n"
   ]
  },
  {
   "cell_type": "code",
   "execution_count": 23,
   "id": "cb5f24b3-4030-4ede-add4-be93988d9355",
   "metadata": {},
   "outputs": [
    {
     "data": {
      "text/plain": [
       "{1, 2, 3, 4, 5, 6, 7, 8, 9, 10}"
      ]
     },
     "execution_count": 23,
     "metadata": {},
     "output_type": "execute_result"
    }
   ],
   "source": [
    "a|b"
   ]
  },
  {
   "cell_type": "code",
   "execution_count": 24,
   "id": "921236c8-d532-4cad-8515-a0da6288c5bd",
   "metadata": {},
   "outputs": [
    {
     "data": {
      "text/plain": [
       "{5, 6}"
      ]
     },
     "execution_count": 24,
     "metadata": {},
     "output_type": "execute_result"
    }
   ],
   "source": [
    "#intersection\n",
    "a.intersection(b)"
   ]
  },
  {
   "cell_type": "code",
   "execution_count": 25,
   "id": "a3c90404-faca-4db9-aa4f-2e90d67542b4",
   "metadata": {},
   "outputs": [
    {
     "data": {
      "text/plain": [
       "{5, 6}"
      ]
     },
     "execution_count": 25,
     "metadata": {},
     "output_type": "execute_result"
    }
   ],
   "source": [
    "a&b"
   ]
  },
  {
   "cell_type": "code",
   "execution_count": 27,
   "id": "12a3cd3b-906b-43e9-a9d2-6456b0a21c1f",
   "metadata": {},
   "outputs": [
    {
     "data": {
      "text/plain": [
       "{1, 2, 3, 4}"
      ]
     },
     "execution_count": 27,
     "metadata": {},
     "output_type": "execute_result"
    }
   ],
   "source": [
    "#differance\n",
    "a.difference(b)"
   ]
  },
  {
   "cell_type": "code",
   "execution_count": 28,
   "id": "494b5052-64cc-444c-adc6-1ec8ccc5577e",
   "metadata": {},
   "outputs": [
    {
     "data": {
      "text/plain": [
       "{7, 8, 9, 10}"
      ]
     },
     "execution_count": 28,
     "metadata": {},
     "output_type": "execute_result"
    }
   ],
   "source": [
    "b.difference(a)"
   ]
  },
  {
   "cell_type": "code",
   "execution_count": 29,
   "id": "61ab43df-dc9d-4087-9710-893851706c29",
   "metadata": {},
   "outputs": [
    {
     "data": {
      "text/plain": [
       "{1, 2, 3, 4}"
      ]
     },
     "execution_count": 29,
     "metadata": {},
     "output_type": "execute_result"
    }
   ],
   "source": [
    "a-b\n"
   ]
  },
  {
   "cell_type": "code",
   "execution_count": 30,
   "id": "583ffcc1-4312-415c-adce-10755b8fa1a0",
   "metadata": {},
   "outputs": [
    {
     "data": {
      "text/plain": [
       "{7, 8, 9, 10}"
      ]
     },
     "execution_count": 30,
     "metadata": {},
     "output_type": "execute_result"
    }
   ],
   "source": [
    "b-a"
   ]
  },
  {
   "cell_type": "markdown",
   "id": "7ff97e45-d152-490b-b1ca-4c3edf69f515",
   "metadata": {},
   "source": [
    "## Dictionory"
   ]
  },
  {
   "cell_type": "code",
   "execution_count": 6,
   "id": "56267395-d4b0-45bb-9e3c-3be8d927f126",
   "metadata": {},
   "outputs": [
    {
     "data": {
      "text/plain": [
       "{'name': 'abc', 'salary': '26000', 'pincode': '415111'}"
      ]
     },
     "execution_count": 6,
     "metadata": {},
     "output_type": "execute_result"
    }
   ],
   "source": [
    "dict1={\"name\":\"abc\",\"salary\":\"26000\",\"pincode\":\"415111\"}\n",
    "dict1"
   ]
  },
  {
   "cell_type": "code",
   "execution_count": 7,
   "id": "80d2ee1c-0bba-4c8d-8eb9-eabee276202d",
   "metadata": {},
   "outputs": [
    {
     "data": {
      "text/plain": [
       "dict"
      ]
     },
     "execution_count": 7,
     "metadata": {},
     "output_type": "execute_result"
    }
   ],
   "source": [
    "type(dict1)"
   ]
  },
  {
   "cell_type": "code",
   "execution_count": 8,
   "id": "3308cc5d-e38a-409b-83b7-2ce316241481",
   "metadata": {},
   "outputs": [
    {
     "data": {
      "text/plain": [
       "3"
      ]
     },
     "execution_count": 8,
     "metadata": {},
     "output_type": "execute_result"
    }
   ],
   "source": [
    "len(dict1)"
   ]
  },
  {
   "cell_type": "code",
   "execution_count": 10,
   "id": "b215d60e-d5a2-4ae8-8440-3227a2dc336f",
   "metadata": {},
   "outputs": [
    {
     "data": {
      "text/plain": [
       "{1: 'hello', 2.22: False, False: 'python'}"
      ]
     },
     "execution_count": 10,
     "metadata": {},
     "output_type": "execute_result"
    }
   ],
   "source": [
    "dict2={1:\"hello\",2.22:False,False:\"python\"}\n",
    "dict2\n"
   ]
  },
  {
   "cell_type": "code",
   "execution_count": 12,
   "id": "d078985d-abf5-4b17-bffc-859581159442",
   "metadata": {},
   "outputs": [
    {
     "data": {
      "text/plain": [
       "{'nitesh': 'inteligent', 'imran': 'friend'}"
      ]
     },
     "execution_count": 12,
     "metadata": {},
     "output_type": "execute_result"
    }
   ],
   "source": [
    "# Overwrite the values to same values \n",
    "dict5={\"nitesh\":\"boy\",\"imran\":\"friend\",\"nitesh\":\"inteligent\"}\n",
    "dict5"
   ]
  },
  {
   "cell_type": "code",
   "execution_count": 14,
   "id": "47000b97-7d47-493a-8725-c5c056dd1b0f",
   "metadata": {},
   "outputs": [
    {
     "data": {
      "text/plain": [
       "{'name': ['abc', 'xyz', 'pqr'],\n",
       " 'city': ['pune', 'mumbai', 'karad'],\n",
       " 'country': 'india'}"
      ]
     },
     "execution_count": 14,
     "metadata": {},
     "output_type": "execute_result"
    }
   ],
   "source": [
    "# Can store the multiple values in single key\n",
    "\n",
    "d1={\"name\":[\"abc\",\"xyz\",\"pqr\"],\n",
    "    \"city\":[\"pune\",\"mumbai\",\"karad\"],\n",
    "    \"country\":\"india\"}\n",
    "d1\n"
   ]
  },
  {
   "cell_type": "code",
   "execution_count": 17,
   "id": "33cdf86a-92a6-4a63-959c-b89f7b94396e",
   "metadata": {},
   "outputs": [
    {
     "data": {
      "text/plain": [
       "{'country': {'india': 'dehli', 'usa': 'washingtone', 'Turkey': 'Ankar'},\n",
       " 'continet': {'asia': {'india': 'dehali', 'japan': 'Tokyo'},\n",
       "  'na': {'india': 'dehli', 'usa': 'washingtone', 'Turkey': 'Ankar'}},\n",
       " 'Oceans': ['Pacific', 'Atlantic', 'Artic'],\n",
       " 'planet': 'Earth'}"
      ]
     },
     "execution_count": 17,
     "metadata": {},
     "output_type": "execute_result"
    }
   ],
   "source": [
    "#Nexted Dictionory\n",
    "Dict6={\"country\":{\"india\":\"dehli\",\"usa\":\"washingtone\",\"Turkey\":\"Ankar\"},\n",
    "       \"continet\":{\"asia\":{\"india\":\"dehali\",\"japan\":\"Tokyo\"},\n",
    "                   \"na\":{\"india\":\"dehli\",\"usa\":\"washingtone\",\"Turkey\":\"Ankar\"}},\n",
    "       \"Oceans\":[\"Pacific\",\"Atlantic\",\"Artic\"],\n",
    "       \"planet\":\"Earth\"}\n",
    "Dict6"
   ]
  },
  {
   "cell_type": "code",
   "execution_count": 18,
   "id": "4ec7516e-7471-4678-8a0c-8d2f82a1fccc",
   "metadata": {},
   "outputs": [
    {
     "data": {
      "text/plain": [
       "4"
      ]
     },
     "execution_count": 18,
     "metadata": {},
     "output_type": "execute_result"
    }
   ],
   "source": [
    "len(Dict6)"
   ]
  },
  {
   "cell_type": "code",
   "execution_count": 19,
   "id": "3f7ce4ab-5fe1-4a49-bbd8-b3558bd9a3ef",
   "metadata": {},
   "outputs": [
    {
     "data": {
      "text/plain": [
       "{'india': 'dehli', 'usa': 'washingtone', 'Turkey': 'Ankar'}"
      ]
     },
     "execution_count": 19,
     "metadata": {},
     "output_type": "execute_result"
    }
   ],
   "source": [
    "Dict6['country']"
   ]
  },
  {
   "cell_type": "code",
   "execution_count": 21,
   "id": "87e6d874-713e-4bdc-a9a7-7a6671115bdb",
   "metadata": {},
   "outputs": [
    {
     "data": {
      "text/plain": [
       "'dehli'"
      ]
     },
     "execution_count": 21,
     "metadata": {},
     "output_type": "execute_result"
    }
   ],
   "source": [
    "Dict6['country']['india']"
   ]
  },
  {
   "cell_type": "markdown",
   "id": "09052ecf-9d61-46f4-8745-0eebae146062",
   "metadata": {},
   "source": [
    "## Mutablity\n"
   ]
  },
  {
   "cell_type": "code",
   "execution_count": 6,
   "id": "e9a9178f-5607-402c-8253-174e1536b338",
   "metadata": {},
   "outputs": [
    {
     "data": {
      "text/plain": [
       "{'name': 'abc', 'salary': '26000', 'pincode': '415111'}"
      ]
     },
     "execution_count": 6,
     "metadata": {},
     "output_type": "execute_result"
    }
   ],
   "source": [
    "d1={'name': 'abc', 'salary': '26000', 'pincode': '415111'}\n",
    "d1"
   ]
  },
  {
   "cell_type": "code",
   "execution_count": 7,
   "id": "f1d9e4b0-760e-436e-9b93-b7e20f511257",
   "metadata": {},
   "outputs": [
    {
     "data": {
      "text/plain": [
       "'abc'"
      ]
     },
     "execution_count": 7,
     "metadata": {},
     "output_type": "execute_result"
    }
   ],
   "source": [
    "d1[\"name\"]"
   ]
  },
  {
   "cell_type": "code",
   "execution_count": 11,
   "id": "c0d88da6-63b8-4d2f-9b85-f85e93048d7a",
   "metadata": {},
   "outputs": [
    {
     "data": {
      "text/plain": [
       "{'name': 'abc', 'salary': '26000', 'pincode': '415111', 'country': 'India'}"
      ]
     },
     "execution_count": 11,
     "metadata": {},
     "output_type": "execute_result"
    }
   ],
   "source": [
    "d1.update({\"country\":\"India\"})\n",
    "d1"
   ]
  },
  {
   "cell_type": "code",
   "execution_count": 12,
   "id": "6d428989-41e9-44d4-ad18-81bf4027ddc8",
   "metadata": {},
   "outputs": [
    {
     "data": {
      "text/plain": [
       "{'salary': '26000', 'pincode': '415111', 'country': 'India'}"
      ]
     },
     "execution_count": 12,
     "metadata": {},
     "output_type": "execute_result"
    }
   ],
   "source": [
    "d1.pop(\"name\")\n",
    "d1"
   ]
  },
  {
   "cell_type": "code",
   "execution_count": 15,
   "id": "4fb8bcad-5403-4abc-bc26-18772ccca759",
   "metadata": {},
   "outputs": [
    {
     "data": {
      "text/plain": [
       "('country', 'India')"
      ]
     },
     "execution_count": 15,
     "metadata": {},
     "output_type": "execute_result"
    }
   ],
   "source": [
    "d1.popitem()"
   ]
  },
  {
   "cell_type": "code",
   "execution_count": 16,
   "id": "0f4dc341-2591-4cf5-937b-ee5c977bfcbe",
   "metadata": {},
   "outputs": [
    {
     "data": {
      "text/plain": [
       "{'salary': '26000', 'pincode': '415111'}"
      ]
     },
     "execution_count": 16,
     "metadata": {},
     "output_type": "execute_result"
    }
   ],
   "source": [
    "d1\n"
   ]
  },
  {
   "cell_type": "code",
   "execution_count": 18,
   "id": "6bb5b75a-2be7-40c6-85f6-97feabfe72a7",
   "metadata": {},
   "outputs": [
    {
     "data": {
      "text/plain": [
       "dict_values(['26000', '415111'])"
      ]
     },
     "execution_count": 18,
     "metadata": {},
     "output_type": "execute_result"
    }
   ],
   "source": [
    "d1.values()"
   ]
  },
  {
   "cell_type": "code",
   "execution_count": 19,
   "id": "a8ffb91f-eee5-441c-acce-285e146b008c",
   "metadata": {},
   "outputs": [
    {
     "data": {
      "text/plain": [
       "dict_keys(['salary', 'pincode'])"
      ]
     },
     "execution_count": 19,
     "metadata": {},
     "output_type": "execute_result"
    }
   ],
   "source": [
    "d1.keys()"
   ]
  },
  {
   "cell_type": "code",
   "execution_count": 20,
   "id": "472e88e1-e2a3-4ee5-9a5d-f17af085ed9e",
   "metadata": {},
   "outputs": [
    {
     "data": {
      "text/plain": [
       "dict_items([('salary', '26000'), ('pincode', '415111')])"
      ]
     },
     "execution_count": 20,
     "metadata": {},
     "output_type": "execute_result"
    }
   ],
   "source": [
    "d1.items()\n"
   ]
  },
  {
   "cell_type": "code",
   "execution_count": null,
   "id": "0b850b3e-d2d4-423e-a1ae-a188ca472133",
   "metadata": {},
   "outputs": [],
   "source": []
  }
 ],
 "metadata": {
  "kernelspec": {
   "display_name": "Python 3 (ipykernel)",
   "language": "python",
   "name": "python3"
  },
  "language_info": {
   "codemirror_mode": {
    "name": "ipython",
    "version": 3
   },
   "file_extension": ".py",
   "mimetype": "text/x-python",
   "name": "python",
   "nbconvert_exporter": "python",
   "pygments_lexer": "ipython3",
   "version": "3.11.7"
  }
 },
 "nbformat": 4,
 "nbformat_minor": 5
}
